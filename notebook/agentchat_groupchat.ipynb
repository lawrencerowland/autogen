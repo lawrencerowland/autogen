{
 "cells": [
  {
   "attachments": {},
   "cell_type": "markdown",
   "metadata": {},
   "source": [
    "<a href=\"https://colab.research.google.com/github/microsoft/autogen/blob/main/notebook/agentchat_groupchat.ipynb\" target=\"_parent\"><img src=\"https://colab.research.google.com/assets/colab-badge.svg\" alt=\"Open In Colab\"/></a>"
   ]
  },
  {
   "attachments": {},
   "cell_type": "markdown",
   "metadata": {},
   "source": [
    "# Auto Generated Agent Chat: Group Chat\n",
    "\n",
    "AutoGen offers conversable agents powered by LLM, tool or human, which can be used to perform tasks collectively via automated chat. This framework allows tool use and human participation through multi-agent conversation.\n",
    "Please find documentation about this feature [here](https://microsoft.github.io/autogen/docs/Use-Cases/agent_chat).\n",
    "\n",
    "This notebook is modified based on https://github.com/microsoft/FLAML/blob/4ea686af5c3e8ff24d9076a7a626c8b28ab5b1d7/notebook/autogen_multiagent_roleplay_chat.ipynb\n",
    "\n",
    "## Requirements\n",
    "\n",
    "AutoGen requires `Python>=3.8`. To run this notebook example, please install:\n",
    "```bash\n",
    "pip install pyautogen\n",
    "```"
   ]
  },
  {
   "cell_type": "code",
   "execution_count": 15,
   "metadata": {},
   "outputs": [],
   "source": [
    "%%capture --no-stderr\n",
    "# %pip install pyautogen~=0.1.0"
   ]
  },
  {
   "attachments": {},
   "cell_type": "markdown",
   "metadata": {},
   "source": [
    "## Set your API Endpoint\n",
    "\n",
    "The [`config_list_from_json`](https://microsoft.github.io/autogen/docs/reference/oai/openai_utils#config_list_from_json) function loads a list of configurations from an environment variable or a json file."
   ]
  },
  {
   "cell_type": "code",
   "execution_count": 20,
   "metadata": {},
   "outputs": [],
   "source": [
    "import autogen\n",
    "\n",
    "config_list_gpt4 = autogen.config_list_from_json(\n",
    "    \"OAI_CONFIG_LIST\",\n",
    "    filter_dict={\n",
    "        \"model\": [\"gpt-4\", \"gpt-4-0314\", \"gpt4\", \"gpt-4-32k\", \"gpt-4-32k-0314\", \"gpt-4-32k-v0314\"],\n",
    "    },\n",
    ")\n",
    "# config_list_gpt35 = autogen.config_list_from_json(\n",
    "#     \"OAI_CONFIG_LIST\",\n",
    "#     filter_dict={\n",
    "#         \"model\": {\n",
    "#             \"gpt-3.5-turbo\",\n",
    "#             \"gpt-3.5-turbo-16k\",\n",
    "#             \"gpt-3.5-turbo-0301\",\n",
    "#             \"chatgpt-35-turbo-0301\",\n",
    "#             \"gpt-35-turbo-v0301\",\n",
    "#         },\n",
    "#     },\n",
    "# )"
   ]
  },
  {
   "attachments": {},
   "cell_type": "markdown",
   "metadata": {},
   "source": [
    "It first looks for environment variable \"OAI_CONFIG_LIST\" which needs to be a valid json string. If that variable is not found, it then looks for a json file named \"OAI_CONFIG_LIST\". It filters the configs by models (you can filter by other keys as well). Only the gpt-4 models are kept in the list based on the filter condition.\n",
    "\n",
    "The config list looks like the following:\n",
    "```python\n",
    "config_list = [\n",
    "    {\n",
    "        'model': 'gpt-4',\n",
    "        'api_key': '<your OpenAI API key here>',\n",
    "    },\n",
    "    {\n",
    "        'model': 'gpt-4',\n",
    "        'api_key': '<your Azure OpenAI API key here>',\n",
    "        'api_base': '<your Azure OpenAI API base here>',\n",
    "        'api_type': 'azure',\n",
    "        'api_version': '2023-06-01-preview',\n",
    "    },\n",
    "    {\n",
    "        'model': 'gpt-4-32k',\n",
    "        'api_key': '<your Azure OpenAI API key here>',\n",
    "        'api_base': '<your Azure OpenAI API base here>',\n",
    "        'api_type': 'azure',\n",
    "        'api_version': '2023-06-01-preview',\n",
    "    },\n",
    "]\n",
    "```\n",
    "\n",
    "If you open this notebook in colab, you can upload your files by clicking the file icon on the left panel and then choose \"upload file\" icon.\n",
    "\n",
    "You can set the value of config_list in other ways you prefer, e.g., loading from a YAML file."
   ]
  },
  {
   "attachments": {},
   "cell_type": "markdown",
   "metadata": {},
   "source": [
    "## Construct Agents"
   ]
  },
  {
   "cell_type": "code",
   "execution_count": 23,
   "metadata": {},
   "outputs": [],
   "source": [
    "llm_config = {\"config_list\": config_list_gpt4, \"seed\": 42}\n",
    "user_proxy = autogen.UserProxyAgent(\n",
    "   name=\"User_proxy\",\n",
    "   system_message=\"A human admin.\",\n",
    "   code_execution_config={\"last_n_messages\": 2, \"work_dir\": \"groupchat\"},\n",
    "   human_input_mode=\"TERMINATE\"\n",
    ")\n",
    "sim = autogen.AssistantAgent(\n",
    "    name=\"Simulated_world\",\n",
    "    system_message=\"updates the state of the construction site based upon what actions everyone takes, based on what is most likely in the situation on site. is always very brief\",\n",
    "    llm_config=llm_config,\n",
    ")\n",
    "constr = autogen.AssistantAgent(\n",
    "    name=\"Construction_Manager\",\n",
    "    system_message=\"responsible for the smooth running of the site ,ultimately accountable for site safety .pays close attention to the constructability of the design, and to the logistics of movements in and out of site.\",\n",
    "    llm_config=llm_config,\n",
    ")\n",
    "contractor = autogen.AssistantAgent(\n",
    "    name=\"Main_Building_contractor\",\n",
    "    system_message=\"holds the main contract for constructing the site, including the concrete pouring and the swimming pool\",\n",
    "    llm_config=llm_config,\n",
    ")\n",
    "groupchat = autogen.GroupChat(agents=[user_proxy, sim, constr,contractor], messages=[], max_round=8)\n",
    "manager = autogen.GroupChatManager(groupchat=groupchat, llm_config=llm_config)"
   ]
  },
  {
   "attachments": {},
   "cell_type": "markdown",
   "metadata": {},
   "source": [
    "## Start Chat"
   ]
  },
  {
   "cell_type": "code",
   "execution_count": 27,
   "metadata": {},
   "outputs": [
    {
     "name": "stdout",
     "output_type": "stream",
     "text": [
      "\u001b[33mUser_proxy\u001b[0m (to chat_manager):\n",
      "\n",
      "Problem: you are building a new leisure centre. It is a wet and windy day and the concrete wagon has slipped in mud and has fallen on one side . Everyone is unhurt, but you need to reset operations so normal construction schedule can resume tomorrow one day late\n",
      "\n",
      "--------------------------------------------------------------------------------\n",
      "\u001b[33mConstruction_Manager\u001b[0m (to chat_manager):\n",
      "\n",
      "Actions:\n",
      "\n",
      "1. Prioritise Safety: First and foremost, ensure the safety of all workers on site. Make sure no one approaches the fallen wagon and cordon off the area.\n",
      "\n",
      "2. Report the Incident: Log the incident in the site’s accident report log and notify upper management, as well as relevant safety officers and insurers.\n",
      "\n",
      "3. Organise Recovery: Contact a recovery service to handle the fallen concrete wagon. Arrange for a crane or specialty vehicle recovery to upright the truck and remove it safely from the site.\n",
      "\n",
      "4. Assess Damage: Conduct a thorough assessment of the site to ascertain the damage caused. This will include evaluating any damage to other equipment, materials, and the construction project itself. Document everything thoroughly, including photographs where possible.\n",
      "\n",
      "5. Arrange Replacement: Contact the concrete supply company to explain the situation and arrange for a new delivery. Discuss the possibility of expediting the delivery to first thing in the morning in order to keep the project on track.\n",
      "\n",
      "6. Revise Work Schedule: Develop a modified work plan to mitigate the delay caused by this incident. Coordinate with the team leads to see where time can be made up.\n",
      "\n",
      "7. Improve Site Conditions: Address the site conditions that contributed to the accident. In this case, that might mean improving drainage or laying gravel to help create a more stable ground for heavy machinery.\n",
      "\n",
      "8. Safety Briefing: Once immediate actions have been taken, arrange a safety briefing for all workers. Review what happened, why it happened, and what measures have been taken to prevent a recurrence.\n",
      "\n",
      "9. Resume Work: Once everything is in place and safety has been ensured, operations can be restarted, with an updated plan aiming at minimising the delay.\n",
      "\n",
      "--------------------------------------------------------------------------------\n",
      "\u001b[33mSimulated_world\u001b[0m (to chat_manager):\n",
      "\n",
      "Site Status:\n",
      "\n",
      "The construction site is currently non-operational due to the accident with the concrete wagon. Measures to ensure safety on site have been carried out, with the affected area being cordoned off. The incident has been duly reported and logged, and a recovery service is being arranged to safely remove the overturned concrete wagon. Damage assessment is ongoing, and arrangements have been made for a replacement concrete wagon. A revised work schedule is being developed to mitigate the day's delay, and efforts are underway to improve the site's conditions which contributed to the accident. After briefing the workers on safety and addressing the incident, work is planned to resume tomorrow, according to the revised schedule.\n",
      "\n",
      "--------------------------------------------------------------------------------\n",
      "\u001b[33mMain_Building_contractor\u001b[0m (to chat_manager):\n",
      "\n",
      "The construction site is currently non-operational due to an accident involving a concrete wagon. Immediate safety measures have been enforced, cordoning off the affected area. The incident has been reported and logged, with a recovery service scheduled to handle the overturned wagon. A comprehensive damage assessment is in progress. Communication with the concrete supply company has been made to arrange for a new delivery. A modified work plan is being designed to make up for the delay caused by this incident. Actions are being taken to improve the site conditions that led to this incident. A safety briefing will be conducted for all workers before resuming operations. Work is expected to resume tomorrow, adhering to the revised schedule, upon assurance of safety and resolution of pressing issues.\n",
      "\n",
      "--------------------------------------------------------------------------------\n",
      "\u001b[31m\n",
      ">>>>>>>> USING AUTO REPLY...\u001b[0m\n",
      "\u001b[33mUser_proxy\u001b[0m (to chat_manager):\n",
      "\n",
      "\n",
      "\n",
      "--------------------------------------------------------------------------------\n",
      "\u001b[33mSimulated_world\u001b[0m (to chat_manager):\n",
      "\n",
      "Site Status:\n",
      "\n",
      "Currently, the construction site is shut down due to an accident involving a fallen concrete wagon. The affected site area has been sectioned off for safety, with the incident documented and reported. A recovery service is being arranged for the concrete wagon, and a damage assessment is in process. Plans are underway for obtaining a replacement concrete wagon and the work schedule is being revised to counterbalance the day's delay. Measures are also being taken to improve site conditions and prevent future incidents. A safety briefing will be conducted prior to the resumption of work. Reconstruction is planned to recommence tomorrow per the updated schedule, provided all safety measures are properly implemented.\n",
      "\n",
      "--------------------------------------------------------------------------------\n",
      "\u001b[33mConstruction_Manager\u001b[0m (to chat_manager):\n",
      "\n",
      "Site Status:\n",
      "\n",
      "At the moment, the construction site is temporarily closed due to an incident involving the tipping over of a concrete wagon. The accident scene has been cordoned off to ensure safety. The incident has been documented and reported, with a recovery service being arranged to deal with the overturned wagon. Additionally, damage assessments are being conducted. We are organizing a replacement concrete wagon and revising the work schedule to mitigate the delay caused by this incident. We are also making efforts to improve the site conditions to prevent a recurrence of this situation. A safety briefing will be conducted before we resume work. If all safety measures are satisfactorily implemented, we are planning to resume construction by tomorrow as per the updated schedule.\n",
      "\n",
      "--------------------------------------------------------------------------------\n",
      "\u001b[33mMain_Building_contractor\u001b[0m (to chat_manager):\n",
      "\n",
      "The work at the construction site is currently halted after an accident with a concrete wagon. The affected area has been cordoned off to ensure safety. The incident has been recorded and reported, and a recovery service is being arranged for the overturned wagon. An assessment of the damage is also in progress. Arrangements for a replacement of the concrete wagon and adjustments to the work schedule are being made to counter the day's delay. Steps to improve site conditions and prevent similar incidents in the future are being put in place. A safety briefing for all workers will be conducted before work resumes. Once all safety measures are met, construction is planned to recommence tomorrow as per the revised schedule.\n",
      "\n",
      "--------------------------------------------------------------------------------\n"
     ]
    }
   ],
   "source": [
    "user_proxy.initiate_chat(\n",
    "    manager,\n",
    "    message=\"\"\"Problem: you are building a new leisure centre. It is a wet and windy day and the concrete wagon has slipped in mud and has fallen on one side . Everyone is unhurt, but you need to reset operations so normal construction schedule can resume tomorrow one day late\"\"\",\n",
    ")"
   ]
  },
  {
   "cell_type": "code",
   "execution_count": null,
   "metadata": {},
   "outputs": [],
   "source": []
  }
 ],
 "metadata": {
  "kernelspec": {
   "display_name": "flaml",
   "language": "python",
   "name": "python3"
  },
  "language_info": {
   "codemirror_mode": {
    "name": "ipython",
    "version": 3
   },
   "file_extension": ".py",
   "mimetype": "text/x-python",
   "name": "python",
   "nbconvert_exporter": "python",
   "pygments_lexer": "ipython3",
   "version": "3.10.12"
  },
  "orig_nbformat": 4
 },
 "nbformat": 4,
 "nbformat_minor": 2
}
